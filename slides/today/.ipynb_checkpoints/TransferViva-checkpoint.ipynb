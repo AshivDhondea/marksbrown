{
 "metadata": {
  "celltoolbar": "Slideshow",
  "name": "",
  "signature": "sha256:b9b20f807f01a78ed18184ccd568808dde827eab2315e79bd0d2708d23d59ce6"
 },
 "nbformat": 3,
 "nbformat_minor": 0,
 "worksheets": [
  {
   "cells": [
    {
     "cell_type": "markdown",
     "metadata": {
      "slideshow": {
       "slide_type": "slide"
      }
     },
     "source": [
      "<center><img width=60% src=\"files/cdtlogo.png\"/></center>\n",
      "\n",
      "#Transfer Viva#\n",
      "##*Improving the timing performance of Scintillator Detectors*##\n",
      "###Mark S. Brown###\n",
      "###Supervised by Dr. I. Papakonstantinou, Dr. P. Lecoq###\n",
      "###Friday 4th April 2014###\n",
      "\n",
      "###[www.markbrown.io/slides/today](http://www.markbrown.io/slides/today)###\n"
     ]
    },
    {
     "cell_type": "markdown",
     "metadata": {
      "slideshow": {
       "slide_type": "slide"
      }
     },
     "source": [
      "#Motivation of Work#\n",
      "\n",
      "<center><img width=100% src=\"files/images/photonicsystem.svg\"/></center>\n"
     ]
    },
    {
     "cell_type": "markdown",
     "metadata": {
      "slideshow": {
       "slide_type": "subslide"
      }
     },
     "source": [
      "#The Scintillator Detector#\n",
      "<center><img width=100% src=\"files/images/scintillatordetector.svg\"/></center>"
     ]
    },
    {
     "cell_type": "markdown",
     "metadata": {
      "slideshow": {
       "slide_type": "slide"
      }
     },
     "source": [
      "#Areas of Work#\n",
      "\n",
      "1. Experimentally investigating scintillator detectors\n",
      "2. Quantifying the timing performace in terms of scintillator detector properties\n",
      "3. Designing a reflection metasurface to improve the timing performance"
     ]
    },
    {
     "cell_type": "markdown",
     "metadata": {
      "slideshow": {
       "slide_type": "subslide"
      }
     },
     "source": [
      "#Areas of Work#\n",
      "\n",
      "1. **Experimentally investigating scintillator detectors**\n",
      "2. **Quantifying the timing performace in terms of scintillator detector properties**\n",
      "3. Designing a reflection metasurface to improve the timing performance"
     ]
    },
    {
     "cell_type": "markdown",
     "metadata": {
      "slideshow": {
       "slide_type": "slide"
      }
     },
     "source": [
      "#Accomplishments to Date#\n",
      "\n",
      "1. ***Influence of Depth of Interaction upon the Performance of Scintillator Detectors* published in PLOS ONE, April 2014**\n",
      "2. *Timing Performance Improvement of Scintillator Detectors via Inclusion of Reflection Metasurfaces* accepted at CLEO 2014, San Jose, Ca (presentation on the 13th June 2014"
     ]
    },
    {
     "cell_type": "code",
     "collapsed": false,
     "input": [
      "from IPython.display import HTML"
     ],
     "language": "python",
     "metadata": {
      "slideshow": {
       "slide_type": "skip"
      }
     },
     "outputs": [],
     "prompt_number": 1
    },
    {
     "cell_type": "markdown",
     "metadata": {
      "slideshow": {
       "slide_type": "subslide"
      }
     },
     "source": [
      "<iframe src=http://www.authorea.com/3692 width=1200 height=700></iframe>"
     ]
    },
    {
     "cell_type": "markdown",
     "metadata": {
      "slideshow": {
       "slide_type": "slide"
      }
     },
     "source": [
      "#Accomplishments to Date#\n",
      "\n",
      "1. *Influence of Depth of Interaction upon the Performance of Scintillator Detectors* published in PLOS ONE, April 2014\n",
      "2. ***Timing Performance Improvement of Scintillator Detectors via Inclusion of Reflection Metasurfaces* accepted at CLEO 2014, San Jose, Ca (presentation on the 13th June 2014**"
     ]
    },
    {
     "cell_type": "markdown",
     "metadata": {
      "slideshow": {
       "slide_type": "slide"
      }
     },
     "source": [
      "#Future Work#\n",
      "\n",
      "1. Validation of software to produce results $\\rightarrow$ Publish work on quantifying timing performance with Monte Carlo Model\n",
      "2. Optical measurements on scintillator crystals using Imaging Sphere and TCSPC\n",
      "3. Design of the reflection metasurface along with quantifying the improvement we expect from it $\\rightarrow$ Present results at CLEO 2014.\n"
     ]
    },
    {
     "cell_type": "markdown",
     "metadata": {
      "slideshow": {
       "slide_type": "subslide"
      }
     },
     "source": [
      "# 1 - Validation of Software\n",
      "\n",
      "* Monte-Carlo + CRLB model predicts surface & geometry are major factors\n",
      "* Results from CERN in paper are useful\n",
      "* Need to validate optical results using Reflection Goniophotometer"
     ]
    },
    {
     "cell_type": "markdown",
     "metadata": {
      "slideshow": {
       "slide_type": "subslide"
      }
     },
     "source": [
      "# 2 - Validation of Theoretical Model#\n",
      "\n",
      "<center><img width=60% src=\"files/images/surfaceconsiderations.svg\"/></center>\n",
      "\n",
      "* Monte-Carlo + CRLB model predicts surface & geometry are major factors\n",
      "* Results from CERN in paper are useful\n",
      "* Need to validate optical results using Reflection Goniophotometer"
     ]
    },
    {
     "cell_type": "markdown",
     "metadata": {
      "slideshow": {
       "slide_type": "subslide"
      }
     },
     "source": [
      "# 3 - Design of the Reflection Metasurface\n",
      "<center><img width=100% src=\"files/images/nanobrickproposal.svg\"/></center>\n",
      "\n",
      "\n",
      "1. Optimized design using oblate spheroids with $\\frac{d\\sigma}{d\\Omega} \\propto |\\vec{\\epsilon}\\cdot\\vec{p}|^2F$\n",
      "2. Reduced parameter space from above utilised to optimize design using Lumerical\n",
      "3. Consider coupling between scatterers and a metallic boundary as a potential secondary design"
     ]
    },
    {
     "cell_type": "code",
     "collapsed": false,
     "input": [
      "#<video controls preload>\n",
      "#<source class=\"stretch\" src=\"files/OUTPUTFILE.mp4\" type=\"video/mp4\">\n",
      "#Your browser does not support the video tag.\n",
      "#</video>"
     ],
     "language": "python",
     "metadata": {
      "slideshow": {
       "slide_type": "skip"
      }
     },
     "outputs": []
    },
    {
     "cell_type": "markdown",
     "metadata": {
      "slideshow": {
       "slide_type": "subslide"
      }
     },
     "source": [
      "#The Plan#\n",
      "<iframe src=http://www.markbrown.io/plan width=1400 height=1000></iframe>"
     ]
    },
    {
     "cell_type": "markdown",
     "metadata": {
      "slideshow": {
       "slide_type": "slide"
      }
     },
     "source": [
      "<img width=20% src=\"files/cern.jpg\"/><img width=40% src=\"files/cdtlogo.png\"/><img width=40% src=\"files/ucl.png\"/>\n",
      "\n",
      "<h2 align=\"center\">Thanks for listening!</h2> \n"
     ]
    }
   ],
   "metadata": {}
  }
 ]
}